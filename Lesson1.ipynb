{
 "metadata": {
  "name": "",
  "signature": "sha256:571a5a5f3e130e852aaac6d9a55b9f2c3f05f45847a638858024d72328c19c7c"
 },
 "nbformat": 3,
 "nbformat_minor": 0,
 "worksheets": [
  {
   "cells": [
    {
     "cell_type": "markdown",
     "metadata": {},
     "source": [
      "# reference:\n",
      "* 1.http://www.learnpython.org\n",
      "* 2.http://www.python-course.eu/course.php\n"
     ]
    },
    {
     "cell_type": "code",
     "collapsed": false,
     "input": [
      "x = 1\n",
      "if x == 1:\n",
      "    # indented four spaces\n",
      "    print \"x is 1.\""
     ],
     "language": "python",
     "metadata": {},
     "outputs": [
      {
       "output_type": "stream",
       "stream": "stdout",
       "text": [
        "x is 1.\n"
       ]
      }
     ],
     "prompt_number": 5
    },
    {
     "cell_type": "heading",
     "level": 1,
     "metadata": {},
     "source": [
      "Variable type"
     ]
    },
    {
     "cell_type": "markdown",
     "metadata": {},
     "source": [
      "#\u547d\u540d\u898f\u5247\uff1f\n",
      "** A valid identifier is a non-empty sequence of characters of any length with: **\n",
      "* the start character can be the underscore \"_\" or a capital or lower case letter\n",
      "* the letters following the start character can be anything which is permitted as a start character plus the digits.\n",
      "* Just a warning for Windows-spoilt users: Identifiers are case-sensitive\n",
      "* Python keywords are not allowed as identifier names\n",
      " "
     ]
    },
    {
     "cell_type": "code",
     "collapsed": false,
     "input": [],
     "language": "python",
     "metadata": {},
     "outputs": []
    },
    {
     "cell_type": "code",
     "collapsed": false,
     "input": [
      "myfloat = 7.0\n",
      "myfloat = float(7)"
     ],
     "language": "python",
     "metadata": {},
     "outputs": [],
     "prompt_number": 2
    },
    {
     "cell_type": "code",
     "collapsed": false,
     "input": [
      "mystring = 'hello'\n",
      "mystring = \"hello\""
     ],
     "language": "python",
     "metadata": {},
     "outputs": [],
     "prompt_number": 3
    },
    {
     "cell_type": "code",
     "collapsed": false,
     "input": [
      "one = 1\n",
      "two = 2\n",
      "three = one + two\n",
      "\n",
      "hello = \"hello\"\n",
      "world = \"world\"\n",
      "helloworld = hello + \" \" + world"
     ],
     "language": "python",
     "metadata": {},
     "outputs": [],
     "prompt_number": 4
    },
    {
     "cell_type": "code",
     "collapsed": false,
     "input": [
      "a, b = 3, 4"
     ],
     "language": "python",
     "metadata": {},
     "outputs": [],
     "prompt_number": 8
    },
    {
     "cell_type": "heading",
     "level": 2,
     "metadata": {},
     "source": [
      "LIST"
     ]
    },
    {
     "cell_type": "code",
     "collapsed": false,
     "input": [],
     "language": "python",
     "metadata": {},
     "outputs": []
    },
    {
     "cell_type": "code",
     "collapsed": false,
     "input": [
      "mylist = []\n",
      "mylist.append(1)\n",
      "mylist.append(2)\n",
      "mylist.append(3)\n",
      "print(mylist[0]) # prints 1\n",
      "print(mylist[1]) # prints 2\n",
      "print(mylist[2]) # prints 3\n",
      "\n",
      "# prints out 1,2,3\n",
      "for x in mylist:\n",
      "    print x"
     ],
     "language": "python",
     "metadata": {},
     "outputs": [
      {
       "output_type": "stream",
       "stream": "stdout",
       "text": [
        "1\n",
        "2\n",
        "3\n",
        "1\n",
        "2\n",
        "3\n"
       ]
      }
     ],
     "prompt_number": 9
    },
    {
     "cell_type": "code",
     "collapsed": false,
     "input": [
      "mylist = [1,2,3,4,5,6]\n",
      "print(mylist[10])"
     ],
     "language": "python",
     "metadata": {},
     "outputs": [
      {
       "ename": "IndexError",
       "evalue": "list index out of range",
       "output_type": "pyerr",
       "traceback": [
        "\u001b[0;31m---------------------------------------------------------------------------\u001b[0m\n\u001b[0;31mIndexError\u001b[0m                                Traceback (most recent call last)",
        "\u001b[0;32m<ipython-input-37-af8112443d7b>\u001b[0m in \u001b[0;36m<module>\u001b[0;34m()\u001b[0m\n\u001b[1;32m      1\u001b[0m \u001b[0mmylist\u001b[0m \u001b[0;34m=\u001b[0m \u001b[0;34m[\u001b[0m\u001b[0;36m1\u001b[0m\u001b[0;34m,\u001b[0m\u001b[0;36m2\u001b[0m\u001b[0;34m,\u001b[0m\u001b[0;36m3\u001b[0m\u001b[0;34m,\u001b[0m\u001b[0;36m4\u001b[0m\u001b[0;34m,\u001b[0m\u001b[0;36m5\u001b[0m\u001b[0;34m,\u001b[0m\u001b[0;36m6\u001b[0m\u001b[0;34m]\u001b[0m\u001b[0;34m\u001b[0m\u001b[0m\n\u001b[0;32m----> 2\u001b[0;31m \u001b[0;32mprint\u001b[0m\u001b[0;34m(\u001b[0m\u001b[0mmylist\u001b[0m\u001b[0;34m[\u001b[0m\u001b[0;36m10\u001b[0m\u001b[0;34m]\u001b[0m\u001b[0;34m)\u001b[0m\u001b[0;34m\u001b[0m\u001b[0m\n\u001b[0m",
        "\u001b[0;31mIndexError\u001b[0m: list index out of range"
       ]
      }
     ],
     "prompt_number": 37
    },
    {
     "cell_type": "code",
     "collapsed": false,
     "input": [
      "len(mylist)"
     ],
     "language": "python",
     "metadata": {},
     "outputs": [
      {
       "metadata": {},
       "output_type": "pyout",
       "prompt_number": 38,
       "text": [
        "6"
       ]
      }
     ],
     "prompt_number": 38
    },
    {
     "cell_type": "code",
     "collapsed": false,
     "input": [
      "mylist[1:5:2]"
     ],
     "language": "python",
     "metadata": {},
     "outputs": [
      {
       "metadata": {},
       "output_type": "pyout",
       "prompt_number": 39,
       "text": [
        "[2, 4]"
       ]
      }
     ],
     "prompt_number": 39
    },
    {
     "cell_type": "heading",
     "level": 1,
     "metadata": {},
     "source": [
      "Dictionary"
     ]
    },
    {
     "cell_type": "code",
     "collapsed": false,
     "input": [
      "phonebook = {}\n",
      "phonebook[\"John\"] = 938477566\n",
      "phonebook[\"Jack\"] = 938377264\n",
      "phonebook[\"Jill\"] = 947662781"
     ],
     "language": "python",
     "metadata": {},
     "outputs": [],
     "prompt_number": 2
    },
    {
     "cell_type": "code",
     "collapsed": false,
     "input": [
      "phonebook = {\n",
      "    \"John\" : 938477566,\n",
      "    \"Jack\" : 938377264,\n",
      "    \"Jill\" : 947662781\n",
      "}"
     ],
     "language": "python",
     "metadata": {},
     "outputs": [],
     "prompt_number": 3
    },
    {
     "cell_type": "code",
     "collapsed": false,
     "input": [
      "del phonebook[\"John\"]"
     ],
     "language": "python",
     "metadata": {},
     "outputs": [],
     "prompt_number": 4
    },
    {
     "cell_type": "code",
     "collapsed": false,
     "input": [],
     "language": "python",
     "metadata": {},
     "outputs": []
    },
    {
     "cell_type": "heading",
     "level": 2,
     "metadata": {},
     "source": [
      "Operation"
     ]
    },
    {
     "cell_type": "code",
     "collapsed": false,
     "input": [
      "number = 1 + 2 * 3 / 4.0"
     ],
     "language": "python",
     "metadata": {},
     "outputs": [],
     "prompt_number": 12
    },
    {
     "cell_type": "code",
     "collapsed": false,
     "input": [
      "remainder = 11 % 3"
     ],
     "language": "python",
     "metadata": {},
     "outputs": [],
     "prompt_number": 13
    },
    {
     "cell_type": "code",
     "collapsed": false,
     "input": [
      "squared = 7 ** 2\n",
      "cubed = 2 ** 3"
     ],
     "language": "python",
     "metadata": {},
     "outputs": [],
     "prompt_number": 14
    },
    {
     "cell_type": "code",
     "collapsed": false,
     "input": [
      "lotsofhellos = \"hello\" * 10"
     ],
     "language": "python",
     "metadata": {},
     "outputs": [],
     "prompt_number": 15
    },
    {
     "cell_type": "code",
     "collapsed": false,
     "input": [
      "even_numbers = [2,4,6,8]\n",
      "odd_numbers = [1,3,5,7]\n",
      "all_numbers = odd_numbers + even_numbers"
     ],
     "language": "python",
     "metadata": {},
     "outputs": [],
     "prompt_number": 16
    },
    {
     "cell_type": "code",
     "collapsed": false,
     "input": [
      "print [1,2,3] * 3"
     ],
     "language": "python",
     "metadata": {},
     "outputs": [
      {
       "output_type": "stream",
       "stream": "stdout",
       "text": [
        "[1, 2, 3, 1, 2, 3, 1, 2, 3]\n"
       ]
      }
     ],
     "prompt_number": 40
    },
    {
     "cell_type": "markdown",
     "metadata": {},
     "source": [
      "|Operator\t|Description    \t|Example|\n",
      "|-----------|:-----------------:|-------|\n",
      "|+, -\t    |Addition, Subtraction\t|10 -3|\n",
      "|\\*, /, %\t|Multiplication, Division, Modulo\t|27 % 7  Result: 6|\n",
      "|//\t|Truncation Division (also known as floordivision) The result of the division is truncated to an integer. Works for integers and floating-point numbers as well\t|27 // 7 Result: 6|\n",
      "|+x, -x\t|Unary minus and Unary plus (Algebraic signs)\t|-3|\n",
      "|~x\t|Bitwise negation\t|~3 - 4 Result: -8|\n",
      "|\\*\\*\t|Exponentiation\t|10 \\*\\* 3 Result: 1000|\n",
      "|or, and, not\t|Boolean Or, Boolean And, Boolean Not\t|(a or b) and c|\n",
      "|in\t|\"Element of\"\t|1 in [3, 2, 1]|\n",
      "|<, <=, >, >=, !=, ==\t|The usual comparison operators\t|2 <= 3|\n",
      "|, &, ^\t|Bitwise Or, Bitwise And, Bitwise XOR\t|6 ^ 3|\n",
      "|<<, >>\t|Shift Operators\t|6 << 3|"
     ]
    },
    {
     "cell_type": "code",
     "collapsed": false,
     "input": [
      "11/2  #\u600e\u6a23\u8b8a\u62105.5??"
     ],
     "language": "python",
     "metadata": {},
     "outputs": [
      {
       "metadata": {},
       "output_type": "pyout",
       "prompt_number": 49,
       "text": [
        "5"
       ]
      }
     ],
     "prompt_number": 49
    },
    {
     "cell_type": "heading",
     "level": 2,
     "metadata": {},
     "source": [
      "String Formating"
     ]
    },
    {
     "cell_type": "code",
     "collapsed": false,
     "input": [
      "name = \"John\"\n",
      "print \"Hello, %s!\" % name"
     ],
     "language": "python",
     "metadata": {},
     "outputs": [
      {
       "output_type": "stream",
       "stream": "stdout",
       "text": [
        "Hello, John!\n"
       ]
      }
     ],
     "prompt_number": 19
    },
    {
     "cell_type": "code",
     "collapsed": false,
     "input": [
      "# This prints out \"John is 23 years old.\"\n",
      "name = \"John\"\n",
      "age = 23\n",
      "print \"%s is %d years old.\" % (name, age)"
     ],
     "language": "python",
     "metadata": {},
     "outputs": [
      {
       "output_type": "stream",
       "stream": "stdout",
       "text": [
        "John is 23 years old.\n"
       ]
      }
     ],
     "prompt_number": 6
    },
    {
     "cell_type": "code",
     "collapsed": false,
     "input": [
      "# This prints out: A list: [1, 2, 3]\n",
      "mylist = [1,2,3]\n",
      "print \"A list: %s\" % mylist"
     ],
     "language": "python",
     "metadata": {},
     "outputs": [
      {
       "output_type": "stream",
       "stream": "stdout",
       "text": [
        "A list: [1, 2, 3]\n"
       ]
      }
     ],
     "prompt_number": 21
    },
    {
     "cell_type": "raw",
     "metadata": {},
     "source": [
      "%s - String (or any object with a string representation, like numbers)\n",
      "%d - Integers\n",
      "%f - Floating point numbers\n",
      "%.<number of digits>f - Floating point numbers with a fixed amount of digits to the right of the dot.\n",
      "%x/%X - Integers in hex representation (lowercase/uppercase)"
     ]
    },
    {
     "cell_type": "code",
     "collapsed": false,
     "input": [
      "print(name[0])\n",
      "print(name[1])"
     ],
     "language": "python",
     "metadata": {},
     "outputs": [
      {
       "output_type": "stream",
       "stream": "stdout",
       "text": [
        "J\n",
        "o\n"
       ]
      }
     ],
     "prompt_number": 10
    },
    {
     "cell_type": "code",
     "collapsed": false,
     "input": [
      "name[1:2]"
     ],
     "language": "python",
     "metadata": {},
     "outputs": [
      {
       "metadata": {},
       "output_type": "pyout",
       "prompt_number": 16,
       "text": [
        "'o'"
       ]
      }
     ],
     "prompt_number": 16
    },
    {
     "cell_type": "code",
     "collapsed": false,
     "input": [
      "name[1:3]"
     ],
     "language": "python",
     "metadata": {},
     "outputs": [
      {
       "metadata": {},
       "output_type": "pyout",
       "prompt_number": 17,
       "text": [
        "'oh'"
       ]
      }
     ],
     "prompt_number": 17
    },
    {
     "cell_type": "code",
     "collapsed": false,
     "input": [
      "name[-1]"
     ],
     "language": "python",
     "metadata": {},
     "outputs": [
      {
       "metadata": {},
       "output_type": "pyout",
       "prompt_number": 18,
       "text": [
        "'n'"
       ]
      }
     ],
     "prompt_number": 18
    },
    {
     "cell_type": "code",
     "collapsed": false,
     "input": [
      "name[0:4:2]"
     ],
     "language": "python",
     "metadata": {},
     "outputs": [
      {
       "metadata": {},
       "output_type": "pyout",
       "prompt_number": 29,
       "text": [
        "'Jh'"
       ]
      }
     ],
     "prompt_number": 29
    },
    {
     "cell_type": "code",
     "collapsed": false,
     "input": [
      "name[0::2]"
     ],
     "language": "python",
     "metadata": {},
     "outputs": [
      {
       "metadata": {},
       "output_type": "pyout",
       "prompt_number": 30,
       "text": [
        "'Jh'"
       ]
      }
     ],
     "prompt_number": 30
    },
    {
     "cell_type": "code",
     "collapsed": false,
     "input": [
      "name[::-1]"
     ],
     "language": "python",
     "metadata": {},
     "outputs": [
      {
       "metadata": {},
       "output_type": "pyout",
       "prompt_number": 31,
       "text": [
        "'nhoJ'"
       ]
      }
     ],
     "prompt_number": 31
    },
    {
     "cell_type": "code",
     "collapsed": false,
     "input": [],
     "language": "python",
     "metadata": {},
     "outputs": []
    }
   ],
   "metadata": {}
  }
 ]
}