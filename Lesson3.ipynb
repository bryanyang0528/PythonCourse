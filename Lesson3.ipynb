{
 "metadata": {
  "name": "",
  "signature": "sha256:288030b9d5195311e5390f2a6b2fec38f3c162033a90341bd566177a7035d4ba"
 },
 "nbformat": 3,
 "nbformat_minor": 0,
 "worksheets": [
  {
   "cells": [
    {
     "cell_type": "heading",
     "level": 1,
     "metadata": {},
     "source": [
      "Functions"
     ]
    },
    {
     "cell_type": "code",
     "collapsed": false,
     "input": [
      "def my_function():\n",
      "    print \"Hello From My Function!\""
     ],
     "language": "python",
     "metadata": {},
     "outputs": [],
     "prompt_number": 1
    },
    {
     "cell_type": "code",
     "collapsed": false,
     "input": [
      "def my_function_with_args(username, greeting):\n",
      "    print \"Hello, %s , From My Function!, I wish you %s\"%(username, greeting)"
     ],
     "language": "python",
     "metadata": {},
     "outputs": [],
     "prompt_number": 2
    },
    {
     "cell_type": "code",
     "collapsed": false,
     "input": [
      "def sum_two_numbers(a, b):\n",
      "    return a + b"
     ],
     "language": "python",
     "metadata": {},
     "outputs": [],
     "prompt_number": 5
    },
    {
     "cell_type": "code",
     "collapsed": false,
     "input": [
      "# print a simple greeting \n",
      "my_function()\n",
      "\n",
      "#prints - \"Hello, John Doe, From My Function!, I wish you a great year!\"\n",
      "my_function_with_args(\"John Doe\", \"a great year!\")\n",
      "\n",
      "# after this line x will hold the value 3!\n",
      "x = sum_two_numbers(1,2)"
     ],
     "language": "python",
     "metadata": {},
     "outputs": [
      {
       "output_type": "stream",
       "stream": "stdout",
       "text": [
        "Hello From My Function!\n",
        "Hello, John Doe , From My Function!, I wish you a great year!\n"
       ]
      }
     ],
     "prompt_number": 6
    },
    {
     "cell_type": "code",
     "collapsed": false,
     "input": [
      "x"
     ],
     "language": "python",
     "metadata": {},
     "outputs": [
      {
       "metadata": {},
       "output_type": "pyout",
       "prompt_number": 24,
       "text": [
        "3"
       ]
      }
     ],
     "prompt_number": 24
    },
    {
     "cell_type": "code",
     "collapsed": false,
     "input": [
      "def foo(first, second, third, *therest):\n",
      "    print \"First: %s\" % first\n",
      "    print \"Second: %s\" % second\n",
      "    print \"Third: %s\" % third\n",
      "    print \"And all the rest... %s\" % list(therest)"
     ],
     "language": "python",
     "metadata": {},
     "outputs": [],
     "prompt_number": 40
    },
    {
     "cell_type": "code",
     "collapsed": false,
     "input": [
      "foo(1,2,3,4,5,6,7,8)"
     ],
     "language": "python",
     "metadata": {},
     "outputs": [
      {
       "output_type": "stream",
       "stream": "stdout",
       "text": [
        "First: 1\n",
        "Second: 2\n",
        "Third: 3\n",
        "And all the rest... [4, 5, 6, 7, 8]\n"
       ]
      }
     ],
     "prompt_number": 41
    },
    {
     "cell_type": "code",
     "collapsed": false,
     "input": [
      "def bar(first, second, third, **options):\n",
      "    if options.get(\"action\") == \"sum\":\n",
      "        print \"The sum is: %d\" % (first + second + third)\n",
      "\n",
      "    if options.get(\"number\") == \"first\":\n",
      "        return first\n",
      "\n",
      "result = bar(1, 2, 3, action = \"sum\", number = \"first\")\n",
      "print \"Result: %s\" % result"
     ],
     "language": "python",
     "metadata": {},
     "outputs": [
      {
       "output_type": "stream",
       "stream": "stdout",
       "text": [
        "The sum is: 6\n",
        "Result: 1\n"
       ]
      }
     ],
     "prompt_number": 23
    },
    {
     "cell_type": "code",
     "collapsed": false,
     "input": [
      "result = bar(1, 2, 3, action = \"sum\")\n",
      "print \"Result: %s\" % result"
     ],
     "language": "python",
     "metadata": {},
     "outputs": [
      {
       "output_type": "stream",
       "stream": "stdout",
       "text": [
        "The sum is: 6\n",
        "Result: None\n"
       ]
      }
     ],
     "prompt_number": 22
    },
    {
     "cell_type": "code",
     "collapsed": false,
     "input": [],
     "language": "python",
     "metadata": {},
     "outputs": []
    },
    {
     "cell_type": "heading",
     "level": 1,
     "metadata": {},
     "source": [
      "import Modules"
     ]
    },
    {
     "cell_type": "code",
     "collapsed": false,
     "input": [],
     "language": "python",
     "metadata": {},
     "outputs": []
    },
    {
     "cell_type": "code",
     "collapsed": false,
     "input": [
      "import urllib"
     ],
     "language": "python",
     "metadata": {},
     "outputs": [],
     "prompt_number": 13
    },
    {
     "cell_type": "code",
     "collapsed": false,
     "input": [
      "help(urllib.urlopen)"
     ],
     "language": "python",
     "metadata": {},
     "outputs": [
      {
       "output_type": "stream",
       "stream": "stdout",
       "text": [
        "Help on function urlopen in module urllib:\n",
        "\n",
        "urlopen(url, data=None, proxies=None)\n",
        "    Create a file-like object for the specified URL to read from.\n",
        "\n"
       ]
      }
     ],
     "prompt_number": 14
    },
    {
     "cell_type": "code",
     "collapsed": false,
     "input": [
      "urllib.urlopen(\"http://www.pchome.com.tw\")"
     ],
     "language": "python",
     "metadata": {},
     "outputs": [
      {
       "metadata": {},
       "output_type": "pyout",
       "prompt_number": 12,
       "text": [
        "<addinfourl at 4519164384 whose fp = <socket._fileobject object at 0x10d5b1f50>>"
       ]
      }
     ],
     "prompt_number": 12
    },
    {
     "cell_type": "code",
     "collapsed": false,
     "input": [
      "import urllib\n",
      "dir(urllib)\n",
      "['ContentTooShortError', 'FancyURLopener', 'MAXFTPCACHE', 'URLopener', '__all__', '__builtins__', '__doc__', '__file__', '__name__', '__package__', '__version__', '_ftperrors', '_get_proxies', '_get_proxy_settings', '_have_ssl', '_hexdig', '_hextochr', '_hostprog', '_is_unicode', '_localhost', '_noheaders', '_nportprog', '_passwdprog', '_portprog', '_queryprog', '_safe_map', '_safe_quoters', '_tagprog', '_thishost', '_typeprog', '_urlopener', '_userprog', '_valueprog', 'addbase', 'addclosehook', 'addinfo', 'addinfourl', 'always_safe', 'basejoin', 'c', 'ftpcache', 'ftperrors', 'ftpwrapper', 'getproxies', 'getproxies_environment', 'getproxies_macosx_sysconf', 'i', 'localhost', 'main', 'noheaders', 'os', 'pathname2url', 'proxy_bypass', 'proxy_bypass_environment', 'proxy_bypass_macosx_sysconf', 'quote', 'quote_plus', 'reporthook', 'socket', 'splitattr', 'splithost', 'splitnport', 'splitpasswd', 'splitport', 'splitquery', 'splittag', 'splittype', 'splituser', 'splitvalue', 'ssl', 'string', 'sys', 'test', 'test1', 'thishost', 'time', 'toBytes', 'unquote', 'unquote_plus', 'unwrap', 'url2pathname', 'urlcleanup', 'urlencode', 'urlopen', 'urlretrieve']"
     ],
     "language": "python",
     "metadata": {},
     "outputs": [
      {
       "metadata": {},
       "output_type": "pyout",
       "prompt_number": 15,
       "text": [
        "['ContentTooShortError',\n",
        " 'FancyURLopener',\n",
        " 'MAXFTPCACHE',\n",
        " 'URLopener',\n",
        " '__all__',\n",
        " '__builtins__',\n",
        " '__doc__',\n",
        " '__file__',\n",
        " '__name__',\n",
        " '__package__',\n",
        " '__version__',\n",
        " '_ftperrors',\n",
        " '_get_proxies',\n",
        " '_get_proxy_settings',\n",
        " '_have_ssl',\n",
        " '_hexdig',\n",
        " '_hextochr',\n",
        " '_hostprog',\n",
        " '_is_unicode',\n",
        " '_localhost',\n",
        " '_noheaders',\n",
        " '_nportprog',\n",
        " '_passwdprog',\n",
        " '_portprog',\n",
        " '_queryprog',\n",
        " '_safe_map',\n",
        " '_safe_quoters',\n",
        " '_tagprog',\n",
        " '_thishost',\n",
        " '_typeprog',\n",
        " '_urlopener',\n",
        " '_userprog',\n",
        " '_valueprog',\n",
        " 'addbase',\n",
        " 'addclosehook',\n",
        " 'addinfo',\n",
        " 'addinfourl',\n",
        " 'always_safe',\n",
        " 'basejoin',\n",
        " 'c',\n",
        " 'ftpcache',\n",
        " 'ftperrors',\n",
        " 'ftpwrapper',\n",
        " 'getproxies',\n",
        " 'getproxies_environment',\n",
        " 'getproxies_macosx_sysconf',\n",
        " 'i',\n",
        " 'localhost',\n",
        " 'main',\n",
        " 'noheaders',\n",
        " 'os',\n",
        " 'pathname2url',\n",
        " 'proxy_bypass',\n",
        " 'proxy_bypass_environment',\n",
        " 'proxy_bypass_macosx_sysconf',\n",
        " 'quote',\n",
        " 'quote_plus',\n",
        " 'reporthook',\n",
        " 'socket',\n",
        " 'splitattr',\n",
        " 'splithost',\n",
        " 'splitnport',\n",
        " 'splitpasswd',\n",
        " 'splitport',\n",
        " 'splitquery',\n",
        " 'splittag',\n",
        " 'splittype',\n",
        " 'splituser',\n",
        " 'splitvalue',\n",
        " 'ssl',\n",
        " 'string',\n",
        " 'sys',\n",
        " 'test',\n",
        " 'test1',\n",
        " 'thishost',\n",
        " 'time',\n",
        " 'toBytes',\n",
        " 'unquote',\n",
        " 'unquote_plus',\n",
        " 'unwrap',\n",
        " 'url2pathname',\n",
        " 'urlcleanup',\n",
        " 'urlencode',\n",
        " 'urlopen',\n",
        " 'urlretrieve']"
       ]
      }
     ],
     "prompt_number": 15
    },
    {
     "cell_type": "code",
     "collapsed": false,
     "input": [
      "from urllib import urlopen"
     ],
     "language": "python",
     "metadata": {},
     "outputs": [],
     "prompt_number": 16
    },
    {
     "cell_type": "code",
     "collapsed": false,
     "input": [
      "urlopen(\"http://www.pchome.com.tw\")"
     ],
     "language": "python",
     "metadata": {},
     "outputs": [
      {
       "metadata": {},
       "output_type": "pyout",
       "prompt_number": 17,
       "text": [
        "<addinfourl at 4519164960 whose fp = <socket._fileobject object at 0x10bb9a950>>"
       ]
      }
     ],
     "prompt_number": 17
    }
   ],
   "metadata": {}
  }
 ]
}