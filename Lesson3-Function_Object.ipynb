{
 "metadata": {
  "name": "",
  "signature": "sha256:58d4570112fc4dd82001009f14929b097111108e0a7e281b1fa5f87852da58be"
 },
 "nbformat": 3,
 "nbformat_minor": 0,
 "worksheets": [
  {
   "cells": [
    {
     "cell_type": "heading",
     "level": 1,
     "metadata": {},
     "source": [
      "Functions"
     ]
    },
    {
     "cell_type": "code",
     "collapsed": false,
     "input": [
      "def my_function():\n",
      "    print \"Hello From My Function!\""
     ],
     "language": "python",
     "metadata": {},
     "outputs": [],
     "prompt_number": 1
    },
    {
     "cell_type": "code",
     "collapsed": false,
     "input": [
      "def my_function_with_args(username, greeting):\n",
      "    print \"Hello, %s , From My Function!, I wish you %s\"%(username, greeting)"
     ],
     "language": "python",
     "metadata": {},
     "outputs": [],
     "prompt_number": 2
    },
    {
     "cell_type": "code",
     "collapsed": false,
     "input": [
      "def sum_two_numbers(a, b):\n",
      "    return a + b"
     ],
     "language": "python",
     "metadata": {},
     "outputs": [],
     "prompt_number": 5
    },
    {
     "cell_type": "code",
     "collapsed": false,
     "input": [
      "# print a simple greeting \n",
      "my_function()\n",
      "\n",
      "#prints - \"Hello, John Doe, From My Function!, I wish you a great year!\"\n",
      "my_function_with_args(\"John Doe\", \"a great year!\")\n",
      "\n",
      "# after this line x will hold the value 3!\n",
      "x = sum_two_numbers(1,2)"
     ],
     "language": "python",
     "metadata": {},
     "outputs": [
      {
       "output_type": "stream",
       "stream": "stdout",
       "text": [
        "Hello From My Function!\n",
        "Hello, John Doe , From My Function!, I wish you a great year!\n"
       ]
      }
     ],
     "prompt_number": 6
    },
    {
     "cell_type": "code",
     "collapsed": false,
     "input": [
      "x"
     ],
     "language": "python",
     "metadata": {},
     "outputs": [
      {
       "metadata": {},
       "output_type": "pyout",
       "prompt_number": 24,
       "text": [
        "3"
       ]
      }
     ],
     "prompt_number": 24
    },
    {
     "cell_type": "code",
     "collapsed": false,
     "input": [
      "def foo(first, second, third, *therest):\n",
      "    print \"First: %s\" % first\n",
      "    print \"Second: %s\" % second\n",
      "    print \"Third: %s\" % third\n",
      "    print \"And all the rest... %s\" % list(therest)"
     ],
     "language": "python",
     "metadata": {},
     "outputs": [],
     "prompt_number": 40
    },
    {
     "cell_type": "code",
     "collapsed": false,
     "input": [
      "foo(1,2,3,4,5,6,7,8)"
     ],
     "language": "python",
     "metadata": {},
     "outputs": [
      {
       "output_type": "stream",
       "stream": "stdout",
       "text": [
        "First: 1\n",
        "Second: 2\n",
        "Third: 3\n",
        "And all the rest... [4, 5, 6, 7, 8]\n"
       ]
      }
     ],
     "prompt_number": 41
    },
    {
     "cell_type": "code",
     "collapsed": false,
     "input": [
      "def bar(first, second, third, **options):\n",
      "    if options.get(\"action\") == \"sum\":\n",
      "        print \"The sum is: %d\" % (first + second + third)\n",
      "\n",
      "    if options.get(\"number\") == \"first\":\n",
      "        return first\n",
      "\n",
      "result = bar(1, 2, 3, action = \"sum\", number = \"first\")\n",
      "print \"Result: %s\" % result"
     ],
     "language": "python",
     "metadata": {},
     "outputs": [
      {
       "output_type": "stream",
       "stream": "stdout",
       "text": [
        "The sum is: 6\n",
        "Result: 1\n"
       ]
      }
     ],
     "prompt_number": 23
    },
    {
     "cell_type": "code",
     "collapsed": false,
     "input": [
      "result = bar(1, 2, 3, action = \"sum\")\n",
      "print \"Result: %s\" % result"
     ],
     "language": "python",
     "metadata": {},
     "outputs": [
      {
       "ename": "NameError",
       "evalue": "name 'bar' is not defined",
       "output_type": "pyerr",
       "traceback": [
        "\u001b[0;31m---------------------------------------------------------------------------\u001b[0m\n\u001b[0;31mNameError\u001b[0m                                 Traceback (most recent call last)",
        "\u001b[0;32m<ipython-input-2-b5ea821e9289>\u001b[0m in \u001b[0;36m<module>\u001b[0;34m()\u001b[0m\n\u001b[0;32m----> 1\u001b[0;31m \u001b[0mresult\u001b[0m \u001b[0;34m=\u001b[0m \u001b[0mbar\u001b[0m\u001b[0;34m(\u001b[0m\u001b[0;36m1\u001b[0m\u001b[0;34m,\u001b[0m \u001b[0;36m2\u001b[0m\u001b[0;34m,\u001b[0m \u001b[0;36m3\u001b[0m\u001b[0;34m,\u001b[0m \u001b[0maction\u001b[0m \u001b[0;34m=\u001b[0m \u001b[0;34m\"sum\"\u001b[0m\u001b[0;34m)\u001b[0m\u001b[0;34m\u001b[0m\u001b[0m\n\u001b[0m\u001b[1;32m      2\u001b[0m \u001b[0;32mprint\u001b[0m \u001b[0;34m\"Result: %s\"\u001b[0m \u001b[0;34m%\u001b[0m \u001b[0mresult\u001b[0m\u001b[0;34m\u001b[0m\u001b[0m\n",
        "\u001b[0;31mNameError\u001b[0m: name 'bar' is not defined"
       ]
      }
     ],
     "prompt_number": 2
    },
    {
     "cell_type": "code",
     "collapsed": false,
     "input": [
      "#PYTHON\u5728\u8a2d\u5b9a\u53c3\u6578\u7684\u6642\u5019\uff0c\u4e0d\u7528\u6307\u5b9a\u53c3\u6578\u578b\u614b\n",
      "\n",
      "def super_print(x):\n",
      "    print x\n",
      "\n",
      "super_print(\"cool\")\n",
      "super_print(13+5)\n",
      "super_print([1,2,3,4,5])"
     ],
     "language": "python",
     "metadata": {},
     "outputs": [
      {
       "output_type": "stream",
       "stream": "stdout",
       "text": [
        "cool\n",
        "18\n",
        "[1, 2, 3, 4, 5]\n"
       ]
      }
     ],
     "prompt_number": 3
    },
    {
     "cell_type": "code",
     "collapsed": false,
     "input": [
      "def super_print(x):\n",
      "    for i in x:\n",
      "        print i\n",
      "\n",
      "super_print(\"cool\")\n",
      "#super_print(13+5)\n",
      "super_print([1,2,3,4,5])\n",
      " "
     ],
     "language": "python",
     "metadata": {},
     "outputs": [
      {
       "output_type": "stream",
       "stream": "stdout",
       "text": [
        "c\n",
        "o\n",
        "o\n",
        "l\n",
        "1\n",
        "2\n",
        "3\n",
        "4\n",
        "5\n"
       ]
      }
     ],
     "prompt_number": 4
    },
    {
     "cell_type": "code",
     "collapsed": false,
     "input": [
      "##\u7df4\u7fd2\uff1a\u8a2d\u8a08\u4e00\u500b\u65b9\u6cd5\uff0c\u53ef\u4ee5\u52a0\u7e3d\u4e00\u500b\u5217\n",
      "x = [1,2,3,4,5]\n",
      "sum_list(x)  ## 15"
     ],
     "language": "python",
     "metadata": {},
     "outputs": [
      {
       "ename": "NameError",
       "evalue": "name 'sum_list' is not defined",
       "output_type": "pyerr",
       "traceback": [
        "\u001b[0;31m---------------------------------------------------------------------------\u001b[0m\n\u001b[0;31mNameError\u001b[0m                                 Traceback (most recent call last)",
        "\u001b[0;32m<ipython-input-10-1798c3e404be>\u001b[0m in \u001b[0;36m<module>\u001b[0;34m()\u001b[0m\n\u001b[1;32m      1\u001b[0m \u001b[0;31m##\u7df4\u7fd2\uff1a\u8a2d\u8a08\u4e00\u500b\u65b9\u6cd5\uff0c\u53ef\u4ee5\u8f38\u5165\u5169\u500b\u503c\u001b[0m\u001b[0;34m\u001b[0m\u001b[0;34m\u001b[0m\u001b[0m\n\u001b[1;32m      2\u001b[0m \u001b[0mx\u001b[0m \u001b[0;34m=\u001b[0m \u001b[0;34m[\u001b[0m\u001b[0;36m1\u001b[0m\u001b[0;34m,\u001b[0m\u001b[0;36m2\u001b[0m\u001b[0;34m,\u001b[0m\u001b[0;36m3\u001b[0m\u001b[0;34m,\u001b[0m\u001b[0;36m4\u001b[0m\u001b[0;34m,\u001b[0m\u001b[0;36m5\u001b[0m\u001b[0;34m]\u001b[0m\u001b[0;34m\u001b[0m\u001b[0m\n\u001b[0;32m----> 3\u001b[0;31m \u001b[0msum_list\u001b[0m\u001b[0;34m(\u001b[0m\u001b[0mx\u001b[0m\u001b[0;34m)\u001b[0m\u001b[0;34m\u001b[0m\u001b[0m\n\u001b[0m",
        "\u001b[0;31mNameError\u001b[0m: name 'sum_list' is not defined"
       ]
      }
     ],
     "prompt_number": 10
    },
    {
     "cell_type": "code",
     "collapsed": false,
     "input": [
      "##\u7df4\u7fd2\uff1a\u8a2d\u8a08\u4e00\u500b\u65b9\u6cd5\uff0c\u53ef\u4ee5\u8b93\u6578\u5b57\u9806\u5e8f\u985b\u5012\n",
      "x = [2,3,5,8,13]\n",
      "reverse(x) # [5,4,3,2,1]"
     ],
     "language": "python",
     "metadata": {},
     "outputs": [
      {
       "metadata": {},
       "output_type": "pyout",
       "prompt_number": 32,
       "text": [
        "[13, 8, 5, 3, 2]"
       ]
      }
     ],
     "prompt_number": 32
    },
    {
     "cell_type": "code",
     "collapsed": false,
     "input": [],
     "language": "python",
     "metadata": {},
     "outputs": [
      {
       "metadata": {},
       "output_type": "pyout",
       "prompt_number": 31,
       "text": [
        "[5, 4, 3, 2, 1]"
       ]
      }
     ],
     "prompt_number": 31
    },
    {
     "cell_type": "code",
     "collapsed": false,
     "input": [
      "##\u9032\u968e\u7df4\u7fd2\uff0c\u8a2d\u8a08\u4e00\u500b\u65b9\u6cd5\u8a08\u7b97Fibonacci\u6578\u5217\u7684\u7b2cn\u500b\u503c\uff081,1,2,3,5,8,13\uff09"
     ],
     "language": "python",
     "metadata": {},
     "outputs": [],
     "prompt_number": 103
    },
    {
     "cell_type": "code",
     "collapsed": false,
     "input": [
      "def reverse(x):\n",
      "    result = []\n",
      "    for i in range(len(x),0,-1):\n",
      "        result.append(x[i-1])\n",
      "    return result"
     ],
     "language": "python",
     "metadata": {},
     "outputs": []
    },
    {
     "cell_type": "markdown",
     "metadata": {},
     "source": [
      "### \u905e\u8ff4\u65b9\u6cd5"
     ]
    },
    {
     "cell_type": "code",
     "collapsed": false,
     "input": [
      "def fibonacci(n):\n",
      "    if n in (1,2):\n",
      "        return 1\n",
      "    if n > 2:\n",
      "        return febonacci(n-1) + febonacci(n-2)\n",
      "    else:\n",
      "        print(\"N must > 2\")\n"
     ],
     "language": "python",
     "metadata": {},
     "outputs": [],
     "prompt_number": 84
    },
    {
     "cell_type": "code",
     "collapsed": false,
     "input": [
      "febonacci(7)"
     ],
     "language": "python",
     "metadata": {},
     "outputs": [
      {
       "metadata": {},
       "output_type": "pyout",
       "prompt_number": 115,
       "text": [
        "2"
       ]
      }
     ],
     "prompt_number": 115
    },
    {
     "cell_type": "code",
     "collapsed": false,
     "input": [
      "##\u9032\u968e\u7df4\u7fd2,\u4f7f\u7528for\u8ff4\u5708\u7522\u751f\u4e00fib\u6578\u5217"
     ],
     "language": "python",
     "metadata": {},
     "outputs": []
    },
    {
     "cell_type": "code",
     "collapsed": false,
     "input": [
      "def fib_list(n):\n",
      "    fib = [1,1]\n",
      "    for i in range(3,n):\n",
      "        fib.append(fib[i-2]+fib[i-3])\n",
      "    return fib"
     ],
     "language": "python",
     "metadata": {},
     "outputs": [],
     "prompt_number": 129
    },
    {
     "cell_type": "code",
     "collapsed": false,
     "input": [
      "fib_list(10)"
     ],
     "language": "python",
     "metadata": {},
     "outputs": [
      {
       "metadata": {},
       "output_type": "pyout",
       "prompt_number": 130,
       "text": [
        "[1, 1, 2, 3, 5, 8, 13, 21, 34]"
       ]
      }
     ],
     "prompt_number": 130
    },
    {
     "cell_type": "markdown",
     "metadata": {},
     "source": [
      "# Object"
     ]
    },
    {
     "cell_type": "code",
     "collapsed": false,
     "input": [
      "#Python \u662f\u7269\u4ef6\u5c0e\u5411\u8a9e\u8a00\n",
      "#\u6bcf\u500b\u6771\u897f\u90fd\u662f\u7269\u4ef6\uff0c\u4e0d\u540c\u7684\u7269\u4ef6\u4e4b\u4e2d\u6709\u4e0d\u540c\u7684\u65b9\u6cd5\u4f86\u64cd\u4f5c\n",
      "\n",
      "class car:\n",
      "    wheel = 4\n",
      "    \n",
      "    #\u5efa\u7acb\u7269\u4ef6\u6642\u81ea\u52d5\u547c\u53eb\u7684\u65b9\u6cd5\uff0c\u53c3\u6578\u9810\u8a2d\u8981\u52a0\u5165\"self\"\n",
      "    def __init__(self, max_speed):\n",
      "        self.max_speed = max_speed\n",
      "        print \"Let's Go!\"\n",
      "        \n",
      "    def get_wheel(self):\n",
      "        print \"wheel = \", self.wheel\n",
      "    \n",
      "    def set_max_speed(self,speed):\n",
      "        if speed > self.max_speed:\n",
      "            print \"Too Fast!\"\n",
      "        elif (speed <= self.max_speed) & (speed > 0):\n",
      "            print \"Safe!\"\n",
      "        else:\n",
      "            print \"Stop\"\n",
      "        \n",
      "\n"
     ],
     "language": "python",
     "metadata": {},
     "outputs": [],
     "prompt_number": 6
    },
    {
     "cell_type": "code",
     "collapsed": false,
     "input": [
      "#\u6211\u5011\u4e0d\u80fd\u76f4\u63a5\u64cd\u4f5c\u7269\u4ef6\uff0c\u8981\u64cd\u4f5c\u7269\u4ef6\u4e4b\u524d\uff0c\u5fc5\u9808\u5c07\u7269\u4ef6\u5be6\u9ad4\u5316\n",
      "car = car(90)\n"
     ],
     "language": "python",
     "metadata": {},
     "outputs": [
      {
       "output_type": "stream",
       "stream": "stdout",
       "text": [
        "Let's Go!\n"
       ]
      }
     ],
     "prompt_number": 8
    },
    {
     "cell_type": "code",
     "collapsed": false,
     "input": [
      "car.get_wheel()\n",
      "car.set_max_speed(0)"
     ],
     "language": "python",
     "metadata": {},
     "outputs": [
      {
       "output_type": "stream",
       "stream": "stdout",
       "text": [
        "wheel =  4\n",
        "Stop\n"
       ]
      }
     ],
     "prompt_number": 9
    },
    {
     "cell_type": "code",
     "collapsed": false,
     "input": [
      "##\u4fee\u6539\u7a0b\u5f0f\u78bc\uff0c\u8b93\u4e0b\u9762\u64cd\u4f5c\u53ef\u4ee5\u57f7\u884c\n",
      "car.get_speed()"
     ],
     "language": "python",
     "metadata": {},
     "outputs": []
    },
    {
     "cell_type": "code",
     "collapsed": false,
     "input": [],
     "language": "python",
     "metadata": {},
     "outputs": []
    },
    {
     "cell_type": "heading",
     "level": 1,
     "metadata": {},
     "source": [
      "import Modules"
     ]
    },
    {
     "cell_type": "code",
     "collapsed": false,
     "input": [],
     "language": "python",
     "metadata": {},
     "outputs": []
    },
    {
     "cell_type": "code",
     "collapsed": false,
     "input": [
      "import urllib"
     ],
     "language": "python",
     "metadata": {},
     "outputs": [],
     "prompt_number": 13
    },
    {
     "cell_type": "code",
     "collapsed": false,
     "input": [
      "help(urllib.urlopen)"
     ],
     "language": "python",
     "metadata": {},
     "outputs": [
      {
       "output_type": "stream",
       "stream": "stdout",
       "text": [
        "Help on function urlopen in module urllib:\n",
        "\n",
        "urlopen(url, data=None, proxies=None)\n",
        "    Create a file-like object for the specified URL to read from.\n",
        "\n"
       ]
      }
     ],
     "prompt_number": 14
    },
    {
     "cell_type": "code",
     "collapsed": false,
     "input": [
      "urllib.urlopen(\"http://www.pchome.com.tw\")"
     ],
     "language": "python",
     "metadata": {},
     "outputs": [
      {
       "metadata": {},
       "output_type": "pyout",
       "prompt_number": 12,
       "text": [
        "<addinfourl at 4519164384 whose fp = <socket._fileobject object at 0x10d5b1f50>>"
       ]
      }
     ],
     "prompt_number": 12
    },
    {
     "cell_type": "code",
     "collapsed": false,
     "input": [
      "import urllib\n",
      "dir(urllib)\n",
      "['ContentTooShortError', 'FancyURLopener', 'MAXFTPCACHE', 'URLopener', '__all__', '__builtins__', '__doc__', '__file__', '__name__', '__package__', '__version__', '_ftperrors', '_get_proxies', '_get_proxy_settings', '_have_ssl', '_hexdig', '_hextochr', '_hostprog', '_is_unicode', '_localhost', '_noheaders', '_nportprog', '_passwdprog', '_portprog', '_queryprog', '_safe_map', '_safe_quoters', '_tagprog', '_thishost', '_typeprog', '_urlopener', '_userprog', '_valueprog', 'addbase', 'addclosehook', 'addinfo', 'addinfourl', 'always_safe', 'basejoin', 'c', 'ftpcache', 'ftperrors', 'ftpwrapper', 'getproxies', 'getproxies_environment', 'getproxies_macosx_sysconf', 'i', 'localhost', 'main', 'noheaders', 'os', 'pathname2url', 'proxy_bypass', 'proxy_bypass_environment', 'proxy_bypass_macosx_sysconf', 'quote', 'quote_plus', 'reporthook', 'socket', 'splitattr', 'splithost', 'splitnport', 'splitpasswd', 'splitport', 'splitquery', 'splittag', 'splittype', 'splituser', 'splitvalue', 'ssl', 'string', 'sys', 'test', 'test1', 'thishost', 'time', 'toBytes', 'unquote', 'unquote_plus', 'unwrap', 'url2pathname', 'urlcleanup', 'urlencode', 'urlopen', 'urlretrieve']"
     ],
     "language": "python",
     "metadata": {},
     "outputs": [
      {
       "metadata": {},
       "output_type": "pyout",
       "prompt_number": 15,
       "text": [
        "['ContentTooShortError',\n",
        " 'FancyURLopener',\n",
        " 'MAXFTPCACHE',\n",
        " 'URLopener',\n",
        " '__all__',\n",
        " '__builtins__',\n",
        " '__doc__',\n",
        " '__file__',\n",
        " '__name__',\n",
        " '__package__',\n",
        " '__version__',\n",
        " '_ftperrors',\n",
        " '_get_proxies',\n",
        " '_get_proxy_settings',\n",
        " '_have_ssl',\n",
        " '_hexdig',\n",
        " '_hextochr',\n",
        " '_hostprog',\n",
        " '_is_unicode',\n",
        " '_localhost',\n",
        " '_noheaders',\n",
        " '_nportprog',\n",
        " '_passwdprog',\n",
        " '_portprog',\n",
        " '_queryprog',\n",
        " '_safe_map',\n",
        " '_safe_quoters',\n",
        " '_tagprog',\n",
        " '_thishost',\n",
        " '_typeprog',\n",
        " '_urlopener',\n",
        " '_userprog',\n",
        " '_valueprog',\n",
        " 'addbase',\n",
        " 'addclosehook',\n",
        " 'addinfo',\n",
        " 'addinfourl',\n",
        " 'always_safe',\n",
        " 'basejoin',\n",
        " 'c',\n",
        " 'ftpcache',\n",
        " 'ftperrors',\n",
        " 'ftpwrapper',\n",
        " 'getproxies',\n",
        " 'getproxies_environment',\n",
        " 'getproxies_macosx_sysconf',\n",
        " 'i',\n",
        " 'localhost',\n",
        " 'main',\n",
        " 'noheaders',\n",
        " 'os',\n",
        " 'pathname2url',\n",
        " 'proxy_bypass',\n",
        " 'proxy_bypass_environment',\n",
        " 'proxy_bypass_macosx_sysconf',\n",
        " 'quote',\n",
        " 'quote_plus',\n",
        " 'reporthook',\n",
        " 'socket',\n",
        " 'splitattr',\n",
        " 'splithost',\n",
        " 'splitnport',\n",
        " 'splitpasswd',\n",
        " 'splitport',\n",
        " 'splitquery',\n",
        " 'splittag',\n",
        " 'splittype',\n",
        " 'splituser',\n",
        " 'splitvalue',\n",
        " 'ssl',\n",
        " 'string',\n",
        " 'sys',\n",
        " 'test',\n",
        " 'test1',\n",
        " 'thishost',\n",
        " 'time',\n",
        " 'toBytes',\n",
        " 'unquote',\n",
        " 'unquote_plus',\n",
        " 'unwrap',\n",
        " 'url2pathname',\n",
        " 'urlcleanup',\n",
        " 'urlencode',\n",
        " 'urlopen',\n",
        " 'urlretrieve']"
       ]
      }
     ],
     "prompt_number": 15
    },
    {
     "cell_type": "code",
     "collapsed": false,
     "input": [
      "from urllib import urlopen"
     ],
     "language": "python",
     "metadata": {},
     "outputs": [],
     "prompt_number": 16
    },
    {
     "cell_type": "code",
     "collapsed": false,
     "input": [
      "urlopen(\"http://www.pchome.com.tw\")"
     ],
     "language": "python",
     "metadata": {},
     "outputs": [
      {
       "metadata": {},
       "output_type": "pyout",
       "prompt_number": 17,
       "text": [
        "<addinfourl at 4519164960 whose fp = <socket._fileobject object at 0x10bb9a950>>"
       ]
      }
     ],
     "prompt_number": 17
    }
   ],
   "metadata": {}
  }
 ]
}